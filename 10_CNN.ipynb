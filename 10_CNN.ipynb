{
 "cells": [
  {
   "cell_type": "code",
   "execution_count": 1,
   "id": "b6c09ace",
   "metadata": {},
   "outputs": [],
   "source": [
    "import pandas as pd\n",
    "import numpy as np\n",
    "import keras\n",
    "from keras.datasets import mnist\n",
    "from keras import models\n",
    "from keras import backend as k"
   ]
  },
  {
   "cell_type": "code",
   "execution_count": 2,
   "id": "3982ae28",
   "metadata": {},
   "outputs": [],
   "source": [
    "(X_train,y_train),(X_test,y_test)=mnist.load_data()"
   ]
  },
  {
   "cell_type": "code",
   "execution_count": 3,
   "id": "aee681b1",
   "metadata": {},
   "outputs": [],
   "source": [
    "X_train=X_train.reshape((60000,28,28,1))\n",
    "X_test=X_test.reshape((10000,28,28,1))"
   ]
  },
  {
   "cell_type": "code",
   "execution_count": 4,
   "id": "5e9667cb",
   "metadata": {},
   "outputs": [],
   "source": [
    "X_train=X_train.astype('float32')/255\n",
    "X_test=X_test.astype('float32')/255"
   ]
  },
  {
   "cell_type": "code",
   "execution_count": 5,
   "id": "d794b7d2",
   "metadata": {},
   "outputs": [],
   "source": [
    "y_train=keras.utils.to_categorical(y_train)\n",
    "y_test=keras.utils.to_categorical(y_test)"
   ]
  },
  {
   "cell_type": "code",
   "execution_count": 6,
   "id": "d891a830",
   "metadata": {},
   "outputs": [],
   "source": [
    "model=models.Sequential()\n",
    "model.add(keras.layers.Conv2D(32,(3,3),activation='relu',input_shape=(28,28,1)))\n",
    "model.add(keras.layers.MaxPooling2D((2,2)))\n",
    "model.add(keras.layers.Conv2D(48,(3,3),activation='relu'))\n",
    "model.add(keras.layers.MaxPooling2D((2,2)))\n",
    "model.add(keras.layers.Dropout(0.5))\n",
    "model.add(keras.layers.Flatten())\n",
    "model.add(keras.layers.Dense(500,activation='relu'))\n",
    "model.add(keras.layers.Dense(10,activation='softmax'))"
   ]
  },
  {
   "cell_type": "code",
   "execution_count": 7,
   "id": "8aebf5ae",
   "metadata": {},
   "outputs": [],
   "source": [
    "model.compile(optimizer='adam',loss='categorical_crossentropy',metrics=['accuracy'])"
   ]
  },
  {
   "cell_type": "code",
   "execution_count": 8,
   "id": "52e80014",
   "metadata": {},
   "outputs": [
    {
     "name": "stdout",
     "output_type": "stream",
     "text": [
      "Epoch 1/10\n",
      "469/469 [==============================] - 35s 73ms/step - loss: 0.2269 - accuracy: 0.9304\n",
      "Epoch 2/10\n",
      "469/469 [==============================] - 34s 72ms/step - loss: 0.0798 - accuracy: 0.9747\n",
      "Epoch 3/10\n",
      "469/469 [==============================] - 33s 70ms/step - loss: 0.0582 - accuracy: 0.9817\n",
      "Epoch 4/10\n",
      "469/469 [==============================] - 34s 73ms/step - loss: 0.0472 - accuracy: 0.9847\n",
      "Epoch 5/10\n",
      "469/469 [==============================] - 34s 72ms/step - loss: 0.0398 - accuracy: 0.9873\n",
      "Epoch 6/10\n",
      "469/469 [==============================] - 34s 73ms/step - loss: 0.0347 - accuracy: 0.9886\n",
      "Epoch 7/10\n",
      "469/469 [==============================] - 34s 73ms/step - loss: 0.0313 - accuracy: 0.9901\n",
      "Epoch 8/10\n",
      "469/469 [==============================] - 35s 74ms/step - loss: 0.0293 - accuracy: 0.9907\n",
      "Epoch 9/10\n",
      "469/469 [==============================] - 34s 71ms/step - loss: 0.0253 - accuracy: 0.9912\n",
      "Epoch 10/10\n",
      "469/469 [==============================] - 33s 70ms/step - loss: 0.0235 - accuracy: 0.9924\n"
     ]
    },
    {
     "data": {
      "text/plain": [
       "<keras.src.callbacks.History at 0x1556027e350>"
      ]
     },
     "execution_count": 8,
     "metadata": {},
     "output_type": "execute_result"
    }
   ],
   "source": [
    "model.fit(X_train,y_train,epochs=10,batch_size=128)"
   ]
  },
  {
   "cell_type": "code",
   "execution_count": 9,
   "id": "702f6a94",
   "metadata": {},
   "outputs": [
    {
     "name": "stdout",
     "output_type": "stream",
     "text": [
      "313/313 [==============================] - 2s 5ms/step - loss: 0.0224 - accuracy: 0.9927\n",
      "0.9926999807357788\n"
     ]
    }
   ],
   "source": [
    "test_loss,test_accuracy=model.evaluate(X_test,y_test)\n",
    "print(test_accuracy)"
   ]
  },
  {
   "cell_type": "code",
   "execution_count": null,
   "id": "deef53c0",
   "metadata": {},
   "outputs": [],
   "source": []
  }
 ],
 "metadata": {
  "kernelspec": {
   "display_name": "Python 3 (ipykernel)",
   "language": "python",
   "name": "python3"
  },
  "language_info": {
   "codemirror_mode": {
    "name": "ipython",
    "version": 3
   },
   "file_extension": ".py",
   "mimetype": "text/x-python",
   "name": "python",
   "nbconvert_exporter": "python",
   "pygments_lexer": "ipython3",
   "version": "3.11.4"
  }
 },
 "nbformat": 4,
 "nbformat_minor": 5
}
