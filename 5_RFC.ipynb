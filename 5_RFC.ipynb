{
 "cells": [
  {
   "cell_type": "code",
   "execution_count": 65,
   "id": "8f68d0d8",
   "metadata": {},
   "outputs": [],
   "source": [
    "import pandas as pd\n",
    "import seaborn as sb\n",
    "import matplotlib.pyplot as plt\n",
    "import numpy as np\n",
    "from sklearn.model_selection import train_test_split\n",
    "from sklearn.ensemble import RandomForestClassifier\n",
    "from sklearn.metrics import confusion_matrix,accuracy_score"
   ]
  },
  {
   "cell_type": "code",
   "execution_count": 66,
   "id": "253adfa7",
   "metadata": {},
   "outputs": [],
   "source": [
    "data=pd.read_excel('random_forest_dataset.xlsx',skiprows=1)"
   ]
  },
  {
   "cell_type": "code",
   "execution_count": 67,
   "id": "4f7be629",
   "metadata": {},
   "outputs": [
    {
     "data": {
      "text/html": [
       "<div>\n",
       "<style scoped>\n",
       "    .dataframe tbody tr th:only-of-type {\n",
       "        vertical-align: middle;\n",
       "    }\n",
       "\n",
       "    .dataframe tbody tr th {\n",
       "        vertical-align: top;\n",
       "    }\n",
       "\n",
       "    .dataframe thead th {\n",
       "        text-align: right;\n",
       "    }\n",
       "</style>\n",
       "<table border=\"1\" class=\"dataframe\">\n",
       "  <thead>\n",
       "    <tr style=\"text-align: right;\">\n",
       "      <th></th>\n",
       "      <th>Sl No</th>\n",
       "      <th>P1</th>\n",
       "      <th>C1</th>\n",
       "      <th>P2</th>\n",
       "      <th>C2</th>\n",
       "      <th>P3</th>\n",
       "      <th>C3</th>\n",
       "      <th>R1</th>\n",
       "      <th>T1</th>\n",
       "      <th>P3T</th>\n",
       "      <th>Total</th>\n",
       "    </tr>\n",
       "  </thead>\n",
       "  <tbody>\n",
       "    <tr>\n",
       "      <th>count</th>\n",
       "      <td>117.000000</td>\n",
       "      <td>117.000000</td>\n",
       "      <td>117.000000</td>\n",
       "      <td>117.000000</td>\n",
       "      <td>117.000000</td>\n",
       "      <td>117.000000</td>\n",
       "      <td>117.000000</td>\n",
       "      <td>109.000000</td>\n",
       "      <td>109.000000</td>\n",
       "      <td>117.000000</td>\n",
       "      <td>117.000000</td>\n",
       "    </tr>\n",
       "    <tr>\n",
       "      <th>mean</th>\n",
       "      <td>59.358974</td>\n",
       "      <td>78.820513</td>\n",
       "      <td>15.764103</td>\n",
       "      <td>78.773504</td>\n",
       "      <td>31.509402</td>\n",
       "      <td>82.923077</td>\n",
       "      <td>16.584615</td>\n",
       "      <td>13.091743</td>\n",
       "      <td>3.651376</td>\n",
       "      <td>32.182906</td>\n",
       "      <td>79.459829</td>\n",
       "    </tr>\n",
       "    <tr>\n",
       "      <th>std</th>\n",
       "      <td>34.320362</td>\n",
       "      <td>22.826790</td>\n",
       "      <td>4.565358</td>\n",
       "      <td>22.490563</td>\n",
       "      <td>8.996225</td>\n",
       "      <td>23.711322</td>\n",
       "      <td>4.742264</td>\n",
       "      <td>1.378010</td>\n",
       "      <td>1.468031</td>\n",
       "      <td>9.324146</td>\n",
       "      <td>22.680225</td>\n",
       "    </tr>\n",
       "    <tr>\n",
       "      <th>min</th>\n",
       "      <td>1.000000</td>\n",
       "      <td>0.000000</td>\n",
       "      <td>0.000000</td>\n",
       "      <td>0.000000</td>\n",
       "      <td>0.000000</td>\n",
       "      <td>0.000000</td>\n",
       "      <td>0.000000</td>\n",
       "      <td>10.000000</td>\n",
       "      <td>0.000000</td>\n",
       "      <td>0.000000</td>\n",
       "      <td>0.000000</td>\n",
       "    </tr>\n",
       "    <tr>\n",
       "      <th>25%</th>\n",
       "      <td>30.000000</td>\n",
       "      <td>78.000000</td>\n",
       "      <td>15.600000</td>\n",
       "      <td>78.000000</td>\n",
       "      <td>31.200000</td>\n",
       "      <td>83.000000</td>\n",
       "      <td>16.600000</td>\n",
       "      <td>12.000000</td>\n",
       "      <td>3.000000</td>\n",
       "      <td>31.800000</td>\n",
       "      <td>80.000000</td>\n",
       "    </tr>\n",
       "    <tr>\n",
       "      <th>50%</th>\n",
       "      <td>59.000000</td>\n",
       "      <td>84.000000</td>\n",
       "      <td>16.800000</td>\n",
       "      <td>84.000000</td>\n",
       "      <td>33.600000</td>\n",
       "      <td>90.000000</td>\n",
       "      <td>18.000000</td>\n",
       "      <td>13.000000</td>\n",
       "      <td>4.000000</td>\n",
       "      <td>35.400000</td>\n",
       "      <td>85.000000</td>\n",
       "    </tr>\n",
       "    <tr>\n",
       "      <th>75%</th>\n",
       "      <td>89.000000</td>\n",
       "      <td>91.000000</td>\n",
       "      <td>18.200000</td>\n",
       "      <td>90.000000</td>\n",
       "      <td>36.000000</td>\n",
       "      <td>94.000000</td>\n",
       "      <td>18.800000</td>\n",
       "      <td>14.000000</td>\n",
       "      <td>5.000000</td>\n",
       "      <td>36.800000</td>\n",
       "      <td>91.000000</td>\n",
       "    </tr>\n",
       "    <tr>\n",
       "      <th>max</th>\n",
       "      <td>118.000000</td>\n",
       "      <td>100.000000</td>\n",
       "      <td>20.000000</td>\n",
       "      <td>100.000000</td>\n",
       "      <td>40.000000</td>\n",
       "      <td>102.000000</td>\n",
       "      <td>20.400000</td>\n",
       "      <td>15.000000</td>\n",
       "      <td>5.000000</td>\n",
       "      <td>40.000000</td>\n",
       "      <td>100.000000</td>\n",
       "    </tr>\n",
       "  </tbody>\n",
       "</table>\n",
       "</div>"
      ],
      "text/plain": [
       "           Sl No          P1           C1          P2          C2          P3  \\\n",
       "count  117.000000  117.000000  117.000000  117.000000  117.000000  117.000000   \n",
       "mean    59.358974   78.820513   15.764103   78.773504   31.509402   82.923077   \n",
       "std     34.320362   22.826790    4.565358   22.490563    8.996225   23.711322   \n",
       "min      1.000000    0.000000    0.000000    0.000000    0.000000    0.000000   \n",
       "25%     30.000000   78.000000   15.600000   78.000000   31.200000   83.000000   \n",
       "50%     59.000000   84.000000   16.800000   84.000000   33.600000   90.000000   \n",
       "75%     89.000000   91.000000   18.200000   90.000000   36.000000   94.000000   \n",
       "max    118.000000  100.000000   20.000000  100.000000   40.000000  102.000000   \n",
       "\n",
       "               C3          R1          T1         P3T      Total   \n",
       "count  117.000000  109.000000  109.000000  117.000000  117.000000  \n",
       "mean    16.584615   13.091743    3.651376   32.182906   79.459829  \n",
       "std      4.742264    1.378010    1.468031    9.324146   22.680225  \n",
       "min      0.000000   10.000000    0.000000    0.000000    0.000000  \n",
       "25%     16.600000   12.000000    3.000000   31.800000   80.000000  \n",
       "50%     18.000000   13.000000    4.000000   35.400000   85.000000  \n",
       "75%     18.800000   14.000000    5.000000   36.800000   91.000000  \n",
       "max     20.400000   15.000000    5.000000   40.000000  100.000000  "
      ]
     },
     "execution_count": 67,
     "metadata": {},
     "output_type": "execute_result"
    }
   ],
   "source": [
    "data.describe()"
   ]
  },
  {
   "cell_type": "code",
   "execution_count": 68,
   "id": "94ed2926",
   "metadata": {},
   "outputs": [
    {
     "data": {
      "text/plain": [
       "Sl No     0\n",
       "USN       0\n",
       "Name      0\n",
       "Title     1\n",
       "P1        0\n",
       "C1        0\n",
       "P2        0\n",
       "C2        0\n",
       "P3        0\n",
       "C3        0\n",
       "R1        8\n",
       "T1        8\n",
       "P3T       0\n",
       "Total     0\n",
       "Grade     8\n",
       "dtype: int64"
      ]
     },
     "execution_count": 68,
     "metadata": {},
     "output_type": "execute_result"
    }
   ],
   "source": [
    "data.isna().sum()"
   ]
  },
  {
   "cell_type": "code",
   "execution_count": 69,
   "id": "ceac43e4",
   "metadata": {},
   "outputs": [
    {
     "data": {
      "text/html": [
       "<div>\n",
       "<style scoped>\n",
       "    .dataframe tbody tr th:only-of-type {\n",
       "        vertical-align: middle;\n",
       "    }\n",
       "\n",
       "    .dataframe tbody tr th {\n",
       "        vertical-align: top;\n",
       "    }\n",
       "\n",
       "    .dataframe thead th {\n",
       "        text-align: right;\n",
       "    }\n",
       "</style>\n",
       "<table border=\"1\" class=\"dataframe\">\n",
       "  <thead>\n",
       "    <tr style=\"text-align: right;\">\n",
       "      <th></th>\n",
       "      <th>Sl No</th>\n",
       "      <th>USN</th>\n",
       "      <th>Name</th>\n",
       "      <th>Title</th>\n",
       "      <th>P1</th>\n",
       "      <th>C1</th>\n",
       "      <th>P2</th>\n",
       "      <th>C2</th>\n",
       "      <th>P3</th>\n",
       "      <th>C3</th>\n",
       "      <th>R1</th>\n",
       "      <th>T1</th>\n",
       "      <th>P3T</th>\n",
       "      <th>Total</th>\n",
       "      <th>Grade</th>\n",
       "    </tr>\n",
       "  </thead>\n",
       "  <tbody>\n",
       "    <tr>\n",
       "      <th>0</th>\n",
       "      <td>1</td>\n",
       "      <td>1RV21MC001</td>\n",
       "      <td>ABHISHEK M</td>\n",
       "      <td>Generative AI Prompt Pipeline</td>\n",
       "      <td>78</td>\n",
       "      <td>15.6</td>\n",
       "      <td>85.0</td>\n",
       "      <td>34.0</td>\n",
       "      <td>93</td>\n",
       "      <td>18.6</td>\n",
       "      <td>13.0</td>\n",
       "      <td>4.0</td>\n",
       "      <td>35.6</td>\n",
       "      <td>85.2</td>\n",
       "      <td>A</td>\n",
       "    </tr>\n",
       "    <tr>\n",
       "      <th>1</th>\n",
       "      <td>2</td>\n",
       "      <td>1RV21MC002</td>\n",
       "      <td>ABHISHEK RANJANAGOUDA G</td>\n",
       "      <td>Android based Smart Vehicle Parking System usi...</td>\n",
       "      <td>84</td>\n",
       "      <td>16.8</td>\n",
       "      <td>82.0</td>\n",
       "      <td>32.8</td>\n",
       "      <td>77</td>\n",
       "      <td>15.4</td>\n",
       "      <td>15.0</td>\n",
       "      <td>5.0</td>\n",
       "      <td>35.4</td>\n",
       "      <td>85.0</td>\n",
       "      <td>A</td>\n",
       "    </tr>\n",
       "    <tr>\n",
       "      <th>2</th>\n",
       "      <td>3</td>\n",
       "      <td>1RV21MC003</td>\n",
       "      <td>ADARSH V MORYE</td>\n",
       "      <td>Sentimental Analysis for product ratings</td>\n",
       "      <td>84</td>\n",
       "      <td>16.8</td>\n",
       "      <td>82.0</td>\n",
       "      <td>32.8</td>\n",
       "      <td>88</td>\n",
       "      <td>17.6</td>\n",
       "      <td>13.0</td>\n",
       "      <td>1.0</td>\n",
       "      <td>31.6</td>\n",
       "      <td>81.2</td>\n",
       "      <td>A</td>\n",
       "    </tr>\n",
       "    <tr>\n",
       "      <th>3</th>\n",
       "      <td>4</td>\n",
       "      <td>1RV21MC004</td>\n",
       "      <td>AISHWARYA K KAMBLE</td>\n",
       "      <td>Analysis and Deployment of an efficient Deep L...</td>\n",
       "      <td>88</td>\n",
       "      <td>17.6</td>\n",
       "      <td>85.0</td>\n",
       "      <td>34.0</td>\n",
       "      <td>96</td>\n",
       "      <td>19.2</td>\n",
       "      <td>13.0</td>\n",
       "      <td>4.0</td>\n",
       "      <td>36.2</td>\n",
       "      <td>87.8</td>\n",
       "      <td>A</td>\n",
       "    </tr>\n",
       "    <tr>\n",
       "      <th>4</th>\n",
       "      <td>5</td>\n",
       "      <td>1RV21MC005</td>\n",
       "      <td>AISHWARYA NAGARAJ BABALESHWAR</td>\n",
       "      <td>Development of Deep Learning Model for Varied ...</td>\n",
       "      <td>84</td>\n",
       "      <td>16.8</td>\n",
       "      <td>82.0</td>\n",
       "      <td>32.8</td>\n",
       "      <td>77</td>\n",
       "      <td>15.4</td>\n",
       "      <td>15.0</td>\n",
       "      <td>5.0</td>\n",
       "      <td>35.4</td>\n",
       "      <td>85.0</td>\n",
       "      <td>A</td>\n",
       "    </tr>\n",
       "  </tbody>\n",
       "</table>\n",
       "</div>"
      ],
      "text/plain": [
       "   Sl No         USN                           Name   \\\n",
       "0       1  1RV21MC001                     ABHISHEK M   \n",
       "1       2  1RV21MC002        ABHISHEK RANJANAGOUDA G   \n",
       "2       3  1RV21MC003                 ADARSH V MORYE   \n",
       "3       4  1RV21MC004             AISHWARYA K KAMBLE   \n",
       "4       5  1RV21MC005  AISHWARYA NAGARAJ BABALESHWAR   \n",
       "\n",
       "                                              Title   P1     C1    P2    C2  \\\n",
       "0                      Generative AI Prompt Pipeline   78  15.6  85.0  34.0   \n",
       "1  Android based Smart Vehicle Parking System usi...   84  16.8  82.0  32.8   \n",
       "2          Sentimental Analysis for product ratings    84  16.8  82.0  32.8   \n",
       "3  Analysis and Deployment of an efficient Deep L...   88  17.6  85.0  34.0   \n",
       "4  Development of Deep Learning Model for Varied ...   84  16.8  82.0  32.8   \n",
       "\n",
       "   P3    C3    R1   T1   P3T  Total  Grade  \n",
       "0  93  18.6  13.0  4.0  35.6    85.2     A  \n",
       "1  77  15.4  15.0  5.0  35.4    85.0     A  \n",
       "2  88  17.6  13.0  1.0  31.6    81.2     A  \n",
       "3  96  19.2  13.0  4.0  36.2    87.8     A  \n",
       "4  77  15.4  15.0  5.0  35.4    85.0     A  "
      ]
     },
     "execution_count": 69,
     "metadata": {},
     "output_type": "execute_result"
    }
   ],
   "source": [
    "data.head()"
   ]
  },
  {
   "cell_type": "code",
   "execution_count": 70,
   "id": "6d0554f2",
   "metadata": {},
   "outputs": [],
   "source": [
    "data['Title ']=data['Title '].fillna(data['Title '].mode()[0])"
   ]
  },
  {
   "cell_type": "code",
   "execution_count": 71,
   "id": "bfa0e726",
   "metadata": {},
   "outputs": [],
   "source": [
    "data['R1']=data['R1'].fillna(data['R1'].mean())"
   ]
  },
  {
   "cell_type": "code",
   "execution_count": 72,
   "id": "338f3cbf",
   "metadata": {},
   "outputs": [],
   "source": [
    "data['T1']=data['T1'].fillna(data['T1'].mean())"
   ]
  },
  {
   "cell_type": "code",
   "execution_count": 73,
   "id": "fdec56cf",
   "metadata": {},
   "outputs": [],
   "source": [
    "data['Grade']=data['Grade'].fillna('F')"
   ]
  },
  {
   "cell_type": "code",
   "execution_count": 74,
   "id": "28fda432",
   "metadata": {},
   "outputs": [
    {
     "data": {
      "text/plain": [
       "Sl No     0\n",
       "USN       0\n",
       "Name      0\n",
       "Title     0\n",
       "P1        0\n",
       "C1        0\n",
       "P2        0\n",
       "C2        0\n",
       "P3        0\n",
       "C3        0\n",
       "R1        0\n",
       "T1        0\n",
       "P3T       0\n",
       "Total     0\n",
       "Grade     0\n",
       "dtype: int64"
      ]
     },
     "execution_count": 74,
     "metadata": {},
     "output_type": "execute_result"
    }
   ],
   "source": [
    "data.isna().sum()"
   ]
  },
  {
   "cell_type": "code",
   "execution_count": 75,
   "id": "58e1bd7c",
   "metadata": {},
   "outputs": [],
   "source": [
    "X=data.drop(['Sl No ','USN ','Name ','Title ','Grade'],axis=1)"
   ]
  },
  {
   "cell_type": "code",
   "execution_count": 76,
   "id": "336ca9fb",
   "metadata": {},
   "outputs": [],
   "source": [
    "y=data['Grade']"
   ]
  },
  {
   "cell_type": "code",
   "execution_count": 77,
   "id": "de337ded",
   "metadata": {},
   "outputs": [],
   "source": [
    "X_train,X_test,y_train,y_test=train_test_split(X,y,test_size=0.3,random_state=42)"
   ]
  },
  {
   "cell_type": "code",
   "execution_count": 78,
   "id": "d0f74cca",
   "metadata": {},
   "outputs": [],
   "source": [
    "rfc=RandomForestClassifier(n_estimators=10,random_state=42)"
   ]
  },
  {
   "cell_type": "code",
   "execution_count": 79,
   "id": "d687fa98",
   "metadata": {},
   "outputs": [],
   "source": [
    "rfc=rfc.fit(X_train,y_train)"
   ]
  },
  {
   "cell_type": "code",
   "execution_count": 80,
   "id": "9f598bdd",
   "metadata": {},
   "outputs": [],
   "source": [
    "y_pred=rfc.predict(X_test)"
   ]
  },
  {
   "cell_type": "code",
   "execution_count": 81,
   "id": "15f40430",
   "metadata": {},
   "outputs": [
    {
     "data": {
      "text/plain": [
       "0.9166666666666666"
      ]
     },
     "execution_count": 81,
     "metadata": {},
     "output_type": "execute_result"
    }
   ],
   "source": [
    "accuracy_score(y_test,y_pred)"
   ]
  },
  {
   "cell_type": "code",
   "execution_count": 82,
   "id": "4c2feaf8",
   "metadata": {},
   "outputs": [
    {
     "data": {
      "text/plain": [
       "<Axes: >"
      ]
     },
     "execution_count": 82,
     "metadata": {},
     "output_type": "execute_result"
    },
    {
     "data": {
      "image/png": "[encoded data removed]",
      "text/plain": [
       "<Figure size 640x480 with 2 Axes>"
      ]
     },
     "metadata": {},
     "output_type": "display_data"
    }
   ],
   "source": [
    "cm=confusion_matrix(y_test,y_pred)\n",
    "sb.heatmap(cm,annot=True)"
   ]
  },
  {
   "cell_type": "code",
   "execution_count": 83,
   "id": "1dca47f9",
   "metadata": {},
   "outputs": [
    {
     "name": "stdout",
     "output_type": "stream",
     "text": [
      "['F']\n"
     ]
    },
    {
     "name": "stderr",
     "output_type": "stream",
     "text": [
      "D:\\Anaconda\\Lib\\site-packages\\sklearn\\base.py:464: UserWarning: X does not have valid feature names, but RandomForestClassifier was fitted with feature names\n",
      "  warnings.warn(\n"
     ]
    }
   ],
   "source": [
    "result=rfc.predict([[0,0,0,0,0,0,0,0,0,0]])\n",
    "print(result)"
   ]
  },
  {
   "cell_type": "code",
   "execution_count": 84,
   "id": "c1bd6797",
   "metadata": {},
   "outputs": [
    {
     "name": "stdout",
     "output_type": "stream",
     "text": [
      "['A']\n"
     ]
    },
    {
     "name": "stderr",
     "output_type": "stream",
     "text": [
      "D:\\Anaconda\\Lib\\site-packages\\sklearn\\base.py:464: UserWarning: X does not have valid feature names, but RandomForestClassifier was fitted with feature names\n",
      "  warnings.warn(\n"
     ]
    }
   ],
   "source": [
    "result=rfc.predict([[79,15.8,79.0,31.6,86,17.2,13,3,33.2,80.6]])\n",
    "print(result)"
   ]
  },
  {
   "cell_type": "code",
   "execution_count": null,
   "id": "121afc21",
   "metadata": {},
   "outputs": [],
   "source": []
  }
 ],
 "metadata": {
  "kernelspec": {
   "display_name": "Python 3 (ipykernel)",
   "language": "python",
   "name": "python3"
  },
  "language_info": {
   "codemirror_mode": {
    "name": "ipython",
    "version": 3
   },
   "file_extension": ".py",
   "mimetype": "text/x-python",
   "name": "python",
   "nbconvert_exporter": "python",
   "pygments_lexer": "ipython3",
   "version": "3.11.4"
  }
 },
 "nbformat": 4,
 "nbformat_minor": 5
}
